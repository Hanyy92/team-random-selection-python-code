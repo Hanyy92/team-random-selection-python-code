{
 "cells": [
  {
   "cell_type": "markdown",
   "metadata": {},
   "source": [
    "# Team Random Selection Code :)\n"
   ]
  },
  {
   "cell_type": "code",
   "execution_count": 1,
   "metadata": {},
   "outputs": [],
   "source": [
    "import random\n",
    "\n",
    "# Define the four test lists\n",
    "level1_list = [1, 2, 3, 4]\n",
    "level2_list = ['a', 'b', 'c','d']\n",
    "level3_list = [99, 88, 77,66]\n",
    "level4_list = [\"1$\",\"2&\",\"3%\",\"4©\"]"
   ]
  },
  {
   "cell_type": "markdown",
   "metadata": {},
   "source": [
    "Think about a code that help us to have random new mixed lists, each list should have one element from each level lists.\n",
    "\n",
    "Output may be like that following:\n",
    "```python\n",
    "team1 = [1, 'c', 88, '2&']\n",
    "team2 = [4, 'a', 99, '3%']\n",
    "team3 = [2, 'b', 77, '4©']\n",
    "team4 = [3, 'd', 66, '1$']\n",
    "```\n",
    "\n"
   ]
  },
  {
   "cell_type": "code",
   "execution_count": 2,
   "metadata": {},
   "outputs": [],
   "source": [
    "# your code here\n",
    "l1 = level1_list\n",
    "l2 = level2_list\n",
    "l3 = level3_list\n",
    "l4 = level4_list"
   ]
  },
  {
   "cell_type": "code",
   "execution_count": 32,
   "metadata": {},
   "outputs": [
    {
     "name": "stdout",
     "output_type": "stream",
     "text": [
      "[[4, 'b', 99, '1$'], [1, 'd', 88, '2&'], [2, 'a', 77, '3%'], [3, 'c', 66, '4©']]\n",
      "team1 = [4, 'b', 99, '1$']\n",
      "team2 = [1, 'd', 88, '2&']\n",
      "team3 = [2, 'a', 77, '3%']\n",
      "team4 = [3, 'c', 66, '4©']\n"
     ]
    }
   ],
   "source": [
    "teams = []\n",
    "for i in range(4):\n",
    "    team1=[l1[i],l2[i],l3[i],l4[i]]\n",
    "    teams.append(team1)\n",
    "    \n",
    "print(teams)\n",
    "\n",
    "for i, team in enumerate(teams, 1):\n",
    "    print(f\"team{i} = {team}\")"
   ]
  }
 ],
 "metadata": {
  "kernelspec": {
   "display_name": "pubmed",
   "language": "python",
   "name": "python3"
  },
  "language_info": {
   "codemirror_mode": {
    "name": "ipython",
    "version": 3
   },
   "file_extension": ".py",
   "mimetype": "text/x-python",
   "name": "python",
   "nbconvert_exporter": "python",
   "pygments_lexer": "ipython3",
   "version": "3.11.5"
  }
 },
 "nbformat": 4,
 "nbformat_minor": 2
}
